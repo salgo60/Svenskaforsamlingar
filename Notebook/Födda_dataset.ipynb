{
 "cells": [
  {
   "cell_type": "markdown",
   "id": "5a524ab1-df57-4546-a6bb-059be30417e6",
   "metadata": {},
   "source": [
    "* [#54 Riksarkivet Födda](https://github.com/salgo60/Svenskaforsamlingar/issues/54) "
   ]
  },
  {
   "cell_type": "code",
   "execution_count": 1,
   "id": "a3d2301e-42cb-47c2-b265-1ebe50a29c85",
   "metadata": {},
   "outputs": [
    {
     "name": "stdout",
     "output_type": "stream",
     "text": [
      "Start time: 2024-05-29 16:26:52\n"
     ]
    }
   ],
   "source": [
    "import time \n",
    "from datetime import datetime\n",
    "start_time = time.time() \n",
    "start_datetime = datetime.fromtimestamp(start_time) \n",
    "print(\"Start time:\", start_datetime.strftime('%Y-%m-%d %H:%M:%S'))"
   ]
  },
  {
   "cell_type": "code",
   "execution_count": 2,
   "id": "dcbb9e6f-b5a4-45bc-9626-f49bcaaf94bb",
   "metadata": {},
   "outputs": [
    {
     "name": "stdout",
     "output_type": "stream",
     "text": [
      "extractedBirth\n",
      "Detected encoding for Fodelse_Malmohus.csv: UTF-16\n",
      "Parser error in file extractedBirth/Fodelse_Malmohus.csv: Error tokenizing data. C error: Expected 4 fields in line 3, saw 15\n",
      "\n",
      "Detected encoding for Fodelse_Jamtland.csv: UTF-16\n",
      "Parser error in file extractedBirth/Fodelse_Jamtland.csv: Error tokenizing data. C error: Expected 1 fields in line 3, saw 2\n",
      "\n",
      "Detected encoding for Fodelse_Blekinge.csv: UTF-16\n",
      "Parser error in file extractedBirth/Fodelse_Blekinge.csv: Error tokenizing data. C error: Expected 3 fields in line 3, saw 8\n",
      "\n",
      "Detected encoding for Fodelse_Vasternorrland.csv: UTF-16\n",
      "Parser error in file extractedBirth/Fodelse_Vasternorrland.csv: Error tokenizing data. C error: Expected 1 fields in line 5, saw 2\n",
      "\n",
      "Detected encoding for Fodelse_Halland.csv: UTF-16\n",
      "Parser error in file extractedBirth/Fodelse_Halland.csv: Error tokenizing data. C error: Expected 5 fields in line 3, saw 7\n",
      "\n",
      "Detected encoding for Fodelse_Kristianstad.csv: UTF-16\n",
      "Parser error in file extractedBirth/Fodelse_Kristianstad.csv: Error tokenizing data. C error: Expected 3 fields in line 12, saw 4\n",
      "\n",
      "dict_keys([])\n"
     ]
    }
   ],
   "source": [
    "import requests\n",
    "import pandas as pd\n",
    "from io import StringIO\n",
    "import zipfile\n",
    "import os\n",
    "import pandas as pd\n",
    "from io import BytesIO\n",
    "# URL of the file to be fetched\n",
    "zip_url = \"https://filer.riksarkivet.se/registerdata/DDS/Fodda/Fodelse_csv.zip\"\n",
    "import requests\n",
    "import pandas as pd\n",
    "from io import StringIO\n",
    "import zipfile\n",
    "import os\n",
    "import pandas as pd\n",
    "from io import BytesIO \n",
    "import chardet\n",
    "# URL of the file to be fetched\n",
    "zip_url = \"https://filer.riksarkivet.se/registerdata/DDS/Fodda/Fodelse_csv.zip\"\n",
    "\n",
    "def download_and_extract_zip(url, extract_to='extractedBirth'):\n",
    "    # Download the file\n",
    "    response = requests.get(url)\n",
    "    response.raise_for_status()  # Ensure the request was successful\n",
    "\n",
    "    # Create a directory to extract the files to\n",
    "    if not os.path.exists(extract_to):\n",
    "        os.makedirs(extract_to)\n",
    "\n",
    "    # Extract the zip file\n",
    "    with zipfile.ZipFile(BytesIO(response.content)) as z:\n",
    "        z.extractall(extract_to)\n",
    "    \n",
    "    return extract_to\n",
    "\n",
    "def read_csv_files_from_directory(directory):\n",
    "    csv_files = [f for f in os.listdir(directory) if f.endswith('.csv')]\n",
    "    dataframes = {}\n",
    "\n",
    "    for csv_file in csv_files:\n",
    "        file_path = os.path.join(directory, csv_file)\n",
    "        try:\n",
    "        # Detect encoding\n",
    "            with open(file_path, 'rb') as f:\n",
    "                result = chardet.detect(f.read())\n",
    "                encoding = result['encoding']\n",
    "                print(f\"Detected encoding for {csv_file}: {encoding}\")\n",
    "        \n",
    "        # Read CSV file with the detected encoding\n",
    "        \n",
    "            df = pd.read_csv(file_path, encoding=encoding)\n",
    "            dataframes[csv_file] = df\n",
    "        except UnicodeDecodeError as e:\n",
    "            print(f\"Error decoding {file_path}: {e}\")        \n",
    "        except pd.errors.ParserError as e:\n",
    "            print(f\"Parser error in file {file_path}: {e}\")\n",
    "\n",
    "    \n",
    "    return dataframes\n",
    "\n",
    "extracted_dir = download_and_extract_zip(zip_url)\n",
    "print (extracted_dir)\n",
    "csv_dataframes = read_csv_files_from_directory(extracted_dir)\n",
    "\n",
    "# Print the keys of the dictionary which are the CSV filenames\n",
    "print(csv_dataframes.keys())"
   ]
  },
  {
   "cell_type": "code",
   "execution_count": null,
   "id": "b40ce890-d185-4f4e-92c9-53add99ebf99",
   "metadata": {},
   "outputs": [],
   "source": []
  },
  {
   "cell_type": "code",
   "execution_count": 3,
   "id": "0796468e-190b-45e6-aba3-db852e26f561",
   "metadata": {},
   "outputs": [
    {
     "name": "stdout",
     "output_type": "stream",
     "text": [
      "Elapsed time: 18.75120997428894 seconds\n"
     ]
    }
   ],
   "source": [
    "end_time = time.time()\n",
    "\n",
    "# Calculate the elapsed time\n",
    "elapsed_time = end_time - start_time\n",
    "\n",
    "# Print the elapsed time\n",
    "print(f\"Elapsed time: {elapsed_time} seconds\")"
   ]
  },
  {
   "cell_type": "code",
   "execution_count": null,
   "id": "196b4293-787e-4595-91c3-be4279945316",
   "metadata": {},
   "outputs": [],
   "source": []
  }
 ],
 "metadata": {
  "kernelspec": {
   "display_name": "Python 3 (ipykernel)",
   "language": "python",
   "name": "python3"
  },
  "language_info": {
   "codemirror_mode": {
    "name": "ipython",
    "version": 3
   },
   "file_extension": ".py",
   "mimetype": "text/x-python",
   "name": "python",
   "nbconvert_exporter": "python",
   "pygments_lexer": "ipython3",
   "version": "3.12.2"
  }
 },
 "nbformat": 4,
 "nbformat_minor": 5
}
