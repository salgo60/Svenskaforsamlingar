{
 "cells": [
  {
   "cell_type": "markdown",
   "id": "5a524ab1-df57-4546-a6bb-059be30417e6",
   "metadata": {},
   "source": [
    "* [#53 SBL dataset släpps 2024 Strings not Things](https://github.com/salgo60/Svenskaforsamlingar/issues/53)"
   ]
  },
  {
   "cell_type": "code",
   "execution_count": 1,
   "id": "a3d2301e-42cb-47c2-b265-1ebe50a29c85",
   "metadata": {},
   "outputs": [
    {
     "name": "stdout",
     "output_type": "stream",
     "text": [
      "Start time: 2024-05-14 13:50:12\n"
     ]
    }
   ],
   "source": [
    "import time \n",
    "from datetime import datetime\n",
    "start_time = time.time() \n",
    "start_datetime = datetime.fromtimestamp(start_time) \n",
    "print(\"Start time:\", start_datetime.strftime('%Y-%m-%d %H:%M:%S'))"
   ]
  },
  {
   "cell_type": "code",
   "execution_count": 2,
   "id": "1f57ea38-fff5-4ed5-8d64-964e79958fbc",
   "metadata": {},
   "outputs": [
    {
     "name": "stdout",
     "output_type": "stream",
     "text": [
      "First 5 rows of the DataFrame:\n",
      "   Article id             Svenskt biografiskt lexikon (SBL): URI  \\\n",
      "0        5490  https://sok.riksarkivet.se/sbl/Presentation.as...   \n",
      "1        5491  https://sok.riksarkivet.se/sbl/Presentation.as...   \n",
      "2        5492  https://sok.riksarkivet.se/sbl/Presentation.as...   \n",
      "3        5493  https://sok.riksarkivet.se/sbl/Presentation.as...   \n",
      "4        5494  https://sok.riksarkivet.se/sbl/Presentation.as...   \n",
      "\n",
      "  Type of article  SBL volume number  Page number in volume  Surname  \\\n",
      "0  Family article                1.0                    1.0   Abelin   \n",
      "1  Person article                1.0                    5.0   Abelin   \n",
      "2  Person article                1.0                    1.0   Abelin   \n",
      "3  Person article                1.0                    9.0   Abelin   \n",
      "4  Person article                1.0                   11.0  Abenius   \n",
      "\n",
      "   Given name Gender      Occupation, royal title, rank  \\\n",
      "0       släkt      -                                NaN   \n",
      "1    Gustaf R      m  Arméofficer, Lantförsvarsminister   \n",
      "2   Hjalmar A      m               Läkare (pediatriker)   \n",
      "3  C Rudolf Z      m              Pomolog, Trädgĺrdsman   \n",
      "4   P Wilhelm      m                             Kemist   \n",
      "\n",
      "  Prefix to year of birth  ... Image file 5  Image 5 description  \\\n",
      "0                     NaN  ...          NaN                  NaN   \n",
      "1                     NaN  ...          NaN                  NaN   \n",
      "2                     NaN  ...          NaN                  NaN   \n",
      "3                     NaN  ...          NaN                  NaN   \n",
      "4                     NaN  ...          NaN                  NaN   \n",
      "\n",
      "   Image file 6 Image 6 description Image file 7 Image 7 description  \\\n",
      "0           NaN                 NaN          NaN                 NaN   \n",
      "1           NaN                 NaN          NaN                 NaN   \n",
      "2           NaN                 NaN          NaN                 NaN   \n",
      "3           NaN                 NaN          NaN                 NaN   \n",
      "4           NaN                 NaN          NaN                 NaN   \n",
      "\n",
      "  Image file 8 Image 8 description  Image file 9  Image 9 description  \n",
      "0          NaN                 NaN           NaN                  NaN  \n",
      "1          NaN                 NaN           NaN                  NaN  \n",
      "2          NaN                 NaN           NaN                  NaN  \n",
      "3          NaN                 NaN           NaN                  NaN  \n",
      "4          NaN                 NaN           NaN                  NaN  \n",
      "\n",
      "[5 rows x 47 columns]\n",
      "\n",
      "DataFrame info:\n",
      "<class 'pandas.core.frame.DataFrame'>\n",
      "RangeIndex: 9406 entries, 0 to 9405\n",
      "Data columns (total 47 columns):\n",
      " #   Column                                  Non-Null Count  Dtype  \n",
      "---  ------                                  --------------  -----  \n",
      " 0   Article id                              9406 non-null   int64  \n",
      " 1   Svenskt biografiskt lexikon (SBL): URI  9406 non-null   object \n",
      " 2   Type of article                         9406 non-null   object \n",
      " 3   SBL volume number                       9405 non-null   float64\n",
      " 4   Page number in volume                   9404 non-null   float64\n",
      " 5   Surname                                 9406 non-null   object \n",
      " 6   Given name                              8949 non-null   object \n",
      " 7   Gender                                  9406 non-null   object \n",
      " 8   Occupation, royal title, rank           7604 non-null   object \n",
      " 9   Prefix to year of birth                 53 non-null     object \n",
      " 10  Year of birth                           7620 non-null   object \n",
      " 11  Month of birth                          6465 non-null   float64\n",
      " 12  Day of birth                            6441 non-null   float64\n",
      " 13  Place of birth                          6692 non-null   object \n",
      " 14  Comment on place of birth               1581 non-null   object \n",
      " 15  Place of birth (physical location)      18 non-null     object \n",
      " 16  Prefix to year of death                 190 non-null    object \n",
      " 17  Year of death                           7637 non-null   object \n",
      " 18  Month of death                          6776 non-null   float64\n",
      " 19  Day of death                            6718 non-null   float64\n",
      " 20  Place of death                          6811 non-null   object \n",
      " 21  Comment on place of death               1558 non-null   object \n",
      " 22  Place of death (physical location)      148 non-null    object \n",
      " 23  Id of main article                      6 non-null      float64\n",
      " 24  Curriculum vitae                        8299 non-null   object \n",
      " 25  Archive                                 6200 non-null   object \n",
      " 26  Printed works                           6807 non-null   object \n",
      " 27  Sources                                 9162 non-null   object \n",
      " 28  Article author                          8788 non-null   object \n",
      " 29  Image file 1                            6466 non-null   object \n",
      " 30  Image 1 description                     5881 non-null   object \n",
      " 31  Image file 2                            234 non-null    object \n",
      " 32  Image 2 description                     225 non-null    object \n",
      " 33  Image file 3                            112 non-null    object \n",
      " 34  Image 3 description                     101 non-null    object \n",
      " 35  Image file 4                            70 non-null     object \n",
      " 36  Image 4 description                     65 non-null     object \n",
      " 37  Image file 5                            49 non-null     object \n",
      " 38  Image 5 description                     48 non-null     object \n",
      " 39  Image file 6                            34 non-null     object \n",
      " 40  Image 6 description                     37 non-null     object \n",
      " 41  Image file 7                            26 non-null     object \n",
      " 42  Image 7 description                     27 non-null     object \n",
      " 43  Image file 8                            24 non-null     object \n",
      " 44  Image 8 description                     24 non-null     object \n",
      " 45  Image file 9                            17 non-null     object \n",
      " 46  Image 9 description                     21 non-null     object \n",
      "dtypes: float64(7), int64(1), object(39)\n",
      "memory usage: 3.4+ MB\n",
      "None\n",
      "\n",
      "DataFrame description:\n",
      "          Article id             Svenskt biografiskt lexikon (SBL): URI  \\\n",
      "count    9406.000000                                               9406   \n",
      "unique           NaN                                               9406   \n",
      "top              NaN  https://sok.riksarkivet.se/sbl/Presentation.as...   \n",
      "freq             NaN                                                  1   \n",
      "mean    13691.144057                                                NaN   \n",
      "std      5687.480889                                                NaN   \n",
      "min      5490.000000                                                NaN   \n",
      "25%      9763.500000                                                NaN   \n",
      "50%     13312.500000                                                NaN   \n",
      "75%     16700.750000                                                NaN   \n",
      "max     35169.000000                                                NaN   \n",
      "\n",
      "       Type of article  SBL volume number  Page number in volume  Surname  \\\n",
      "count             9406        9405.000000            9404.000000     9406   \n",
      "unique               2                NaN                    NaN     4708   \n",
      "top     Person article                NaN                    NaN  Nilsson   \n",
      "freq              7652                NaN                    NaN       55   \n",
      "mean               NaN          17.607337             389.032646      NaN   \n",
      "std                NaN           9.339210             229.509881      NaN   \n",
      "min                NaN           1.000000               1.000000      NaN   \n",
      "25%                NaN          10.000000             189.000000      NaN   \n",
      "50%                NaN          18.000000             384.500000      NaN   \n",
      "75%                NaN          25.000000             587.250000      NaN   \n",
      "max                NaN          35.000000             804.000000      NaN   \n",
      "\n",
      "       Given name Gender Occupation, royal title, rank  \\\n",
      "count        8949   9406                          7604   \n",
      "unique       4462      4                          3914   \n",
      "top         släkt      m                   Arméofficer   \n",
      "freq         1425   7066                           144   \n",
      "mean          NaN    NaN                           NaN   \n",
      "std           NaN    NaN                           NaN   \n",
      "min           NaN    NaN                           NaN   \n",
      "25%           NaN    NaN                           NaN   \n",
      "50%           NaN    NaN                           NaN   \n",
      "75%           NaN    NaN                           NaN   \n",
      "max           NaN    NaN                           NaN   \n",
      "\n",
      "       Prefix to year of birth  ...  \\\n",
      "count                       53  ...   \n",
      "unique                      18  ...   \n",
      "top                    omkring  ...   \n",
      "freq                        18  ...   \n",
      "mean                       NaN  ...   \n",
      "std                        NaN  ...   \n",
      "min                        NaN  ...   \n",
      "25%                        NaN  ...   \n",
      "50%                        NaN  ...   \n",
      "75%                        NaN  ...   \n",
      "max                        NaN  ...   \n",
      "\n",
      "                                             Image file 5  \\\n",
      "count                                                  49   \n",
      "unique                                                 49   \n",
      "top     https://sok.riksarkivet.se/sbl/bilder/5601_7_0...   \n",
      "freq                                                    1   \n",
      "mean                                                  NaN   \n",
      "std                                                   NaN   \n",
      "min                                                   NaN   \n",
      "25%                                                   NaN   \n",
      "50%                                                   NaN   \n",
      "75%                                                   NaN   \n",
      "max                                                   NaN   \n",
      "\n",
      "                                      Image 5 description  \\\n",
      "count                                                  48   \n",
      "unique                                                 48   \n",
      "top     (von) seth89Johan S (d 1632), ingenjör' Andrie...   \n",
      "freq                                                    1   \n",
      "mean                                                  NaN   \n",
      "std                                                   NaN   \n",
      "min                                                   NaN   \n",
      "25%                                                   NaN   \n",
      "50%                                                   NaN   \n",
      "75%                                                   NaN   \n",
      "max                                                   NaN   \n",
      "\n",
      "                                             Image file 6  \\\n",
      "count                                                  34   \n",
      "unique                                                 34   \n",
      "top     https://sok.riksarkivet.se/sbl/bilder/6133_7_0...   \n",
      "freq                                                    1   \n",
      "mean                                                  NaN   \n",
      "std                                                   NaN   \n",
      "min                                                   NaN   \n",
      "25%                                                   NaN   \n",
      "50%                                                   NaN   \n",
      "75%                                                   NaN   \n",
      "max                                                   NaN   \n",
      "\n",
      "                          Image 6 description  \\\n",
      "count                                      37   \n",
      "unique                                     37   \n",
      "top     Torsten Sondén (1893-1953) Privat ägo   \n",
      "freq                                        1   \n",
      "mean                                      NaN   \n",
      "std                                       NaN   \n",
      "min                                       NaN   \n",
      "25%                                       NaN   \n",
      "50%                                       NaN   \n",
      "75%                                       NaN   \n",
      "max                                       NaN   \n",
      "\n",
      "                                             Image file 7  \\\n",
      "count                                                  26   \n",
      "unique                                                 26   \n",
      "top     https://sok.riksarkivet.se/sbl/bilder/6133_8_0...   \n",
      "freq                                                    1   \n",
      "mean                                                  NaN   \n",
      "std                                                   NaN   \n",
      "min                                                   NaN   \n",
      "25%                                                   NaN   \n",
      "50%                                                   NaN   \n",
      "75%                                                   NaN   \n",
      "max                                                   NaN   \n",
      "\n",
      "                                      Image 7 description Image file 8  \\\n",
      "count                                                  27           24   \n",
      "unique                                                 27           23   \n",
      "top     Jöns Jönsson (1620-talet) bondeSven Jönsson (d...    godsägare   \n",
      "freq                                                    1            2   \n",
      "mean                                                  NaN          NaN   \n",
      "std                                                   NaN          NaN   \n",
      "min                                                   NaN          NaN   \n",
      "25%                                                   NaN          NaN   \n",
      "50%                                                   NaN          NaN   \n",
      "75%                                                   NaN          NaN   \n",
      "max                                                   NaN          NaN   \n",
      "\n",
      "                                      Image 8 description  \\\n",
      "count                                                  24   \n",
      "unique                                                 24   \n",
      "top     Släkttavla 2Peer R (1544-1604), stĺthĺllarei L...   \n",
      "freq                                                    1   \n",
      "mean                                                  NaN   \n",
      "std                                                   NaN   \n",
      "min                                                   NaN   \n",
      "25%                                                   NaN   \n",
      "50%                                                   NaN   \n",
      "75%                                                   NaN   \n",
      "max                                                   NaN   \n",
      "\n",
      "                                             Image file 9  \\\n",
      "count                                                  17   \n",
      "unique                                                 17   \n",
      "top     https://sok.riksarkivet.se/sbl/bilder/6973_8_0...   \n",
      "freq                                                    1   \n",
      "mean                                                  NaN   \n",
      "std                                                   NaN   \n",
      "min                                                   NaN   \n",
      "25%                                                   NaN   \n",
      "50%                                                   NaN   \n",
      "75%                                                   NaN   \n",
      "max                                                   NaN   \n",
      "\n",
      "                                      Image 9 description  \n",
      "count                                                  21  \n",
      "unique                                                 21  \n",
      "top     Släkttavla 1 Johan Pedersson R (dl 603), stads...  \n",
      "freq                                                    1  \n",
      "mean                                                  NaN  \n",
      "std                                                   NaN  \n",
      "min                                                   NaN  \n",
      "25%                                                   NaN  \n",
      "50%                                                   NaN  \n",
      "75%                                                   NaN  \n",
      "max                                                   NaN  \n",
      "\n",
      "[11 rows x 47 columns]\n",
      "\n",
      "Columns in the DataFrame:\n",
      "Index(['Article id', 'Svenskt biografiskt lexikon (SBL): URI',\n",
      "       'Type of article', 'SBL volume number', 'Page number in volume',\n",
      "       'Surname', 'Given name', 'Gender', 'Occupation, royal title, rank',\n",
      "       'Prefix to year of birth', 'Year of birth', 'Month of birth',\n",
      "       'Day of birth', 'Place of birth', 'Comment on place of birth',\n",
      "       'Place of birth (physical location)', 'Prefix to year of death',\n",
      "       'Year of death', 'Month of death', 'Day of death', 'Place of death',\n",
      "       'Comment on place of death', 'Place of death (physical location)',\n",
      "       'Id of main article', 'Curriculum vitae', 'Archive', 'Printed works',\n",
      "       'Sources', 'Article author', 'Image file 1', 'Image 1 description',\n",
      "       'Image file 2', 'Image 2 description', 'Image file 3',\n",
      "       'Image 3 description', 'Image file 4', 'Image 4 description',\n",
      "       'Image file 5', 'Image 5 description', 'Image file 6',\n",
      "       'Image 6 description', 'Image file 7', 'Image 7 description',\n",
      "       'Image file 8', 'Image 8 description', 'Image file 9',\n",
      "       'Image 9 description'],\n",
      "      dtype='object')\n",
      "\n",
      "Data types of each column:\n",
      "Article id                                  int64\n",
      "Svenskt biografiskt lexikon (SBL): URI     object\n",
      "Type of article                            object\n",
      "SBL volume number                         float64\n",
      "Page number in volume                     float64\n",
      "Surname                                    object\n",
      "Given name                                 object\n",
      "Gender                                     object\n",
      "Occupation, royal title, rank              object\n",
      "Prefix to year of birth                    object\n",
      "Year of birth                              object\n",
      "Month of birth                            float64\n",
      "Day of birth                              float64\n",
      "Place of birth                             object\n",
      "Comment on place of birth                  object\n",
      "Place of birth (physical location)         object\n",
      "Prefix to year of death                    object\n",
      "Year of death                              object\n",
      "Month of death                            float64\n",
      "Day of death                              float64\n",
      "Place of death                             object\n",
      "Comment on place of death                  object\n",
      "Place of death (physical location)         object\n",
      "Id of main article                        float64\n",
      "Curriculum vitae                           object\n",
      "Archive                                    object\n",
      "Printed works                              object\n",
      "Sources                                    object\n",
      "Article author                             object\n",
      "Image file 1                               object\n",
      "Image 1 description                        object\n",
      "Image file 2                               object\n",
      "Image 2 description                        object\n",
      "Image file 3                               object\n",
      "Image 3 description                        object\n",
      "Image file 4                               object\n",
      "Image 4 description                        object\n",
      "Image file 5                               object\n",
      "Image 5 description                        object\n",
      "Image file 6                               object\n",
      "Image 6 description                        object\n",
      "Image file 7                               object\n",
      "Image 7 description                        object\n",
      "Image file 8                               object\n",
      "Image 8 description                        object\n",
      "Image file 9                               object\n",
      "Image 9 description                        object\n",
      "dtype: object\n",
      "Data has been downloaded, loaded into pandas, and saved as SBL_2023_local.csv\n"
     ]
    }
   ],
   "source": [
    "import requests\n",
    "import pandas as pd\n",
    "from io import StringIO\n",
    "\n",
    "# URL of the file to be fetched\n",
    "url = \"https://filer.riksarkivet.se/registerdata/SBL/csv/SBL_2023.csv\"\n",
    "\n",
    "# Send a GET request to the URL\n",
    "response = requests.get(url)\n",
    "\n",
    "# Check if the request was successful\n",
    "if response.status_code == 200:\n",
    "    # Use StringIO to read the CSV content into a pandas DataFrame\n",
    "    csv_content = StringIO(response.text)\n",
    "    \n",
    "    # Print the first few lines to inspect the content\n",
    "    #first_lines = csv_content.getvalue().split('\\n')[:5]\n",
    "    #for line in first_lines:\n",
    "    #    print(line)\n",
    "    \n",
    "    # Reset the StringIO object to start reading from the beginning\n",
    "    csv_content.seek(0)\n",
    "    \n",
    "    # Read the CSV into a DataFrame using the correct delimiter\n",
    "    df = pd.read_csv(csv_content, delimiter=';')  # Adjust the delimiter if needed\n",
    "\n",
    "    print(\"First 5 rows of the DataFrame:\")\n",
    "    print(df.head())  # Display the first 5 rows\n",
    "    \n",
    "    print(\"\\nDataFrame info:\")\n",
    "    print(df.info())  # Display concise summary of the DataFrame\n",
    "    \n",
    "    print(\"\\nDataFrame description:\")\n",
    "    print(df.describe(include='all'))  # Display summary statistics of the DataFrame\n",
    "\n",
    "    print(\"\\nColumns in the DataFrame:\")\n",
    "    print(df.columns)  # Display the column names\n",
    "    \n",
    "    print(\"\\nData types of each column:\")\n",
    "    print(df.dtypes)  # Display the data types of each column\n",
    "    \n",
    "\n",
    "    # Save the DataFrame to a CSV file\n",
    "    df.to_csv(\"SBL_2023_local.csv\", index=False)\n",
    "    print(\"Data has been downloaded, loaded into pandas, and saved as SBL_2023_local.csv\")\n",
    "else:\n",
    "    print(f\"Failed to download file. Status code: {response.status_code}\")\n"
   ]
  },
  {
   "cell_type": "code",
   "execution_count": null,
   "id": "b40ce890-d185-4f4e-92c9-53add99ebf99",
   "metadata": {},
   "outputs": [],
   "source": []
  },
  {
   "cell_type": "code",
   "execution_count": 3,
   "id": "5f7e6604-4307-4030-b7dc-932cd8bb91bf",
   "metadata": {},
   "outputs": [],
   "source": [
    "def inspect_column_values(df, column_name):\n",
    "    # Check if the specified column exists\n",
    "    if column_name in df.columns:\n",
    "        # Get the counts of unique values in the specified column\n",
    "        value_counts = df[column_name].value_counts()\n",
    "        \n",
    "        # Convert the Series to a DataFrame for better display\n",
    "        value_counts_df = value_counts.reset_index()\n",
    "        value_counts_df.columns = [column_name, 'Number of Occurrences']\n",
    "        \n",
    "        return value_counts_df\n",
    "    else:\n",
    "        print(f\"The column '{column_name}' does not exist in the DataFrame.\")\n",
    "        return None\n",
    "\n",
    "def inspect_top_column_values(df, column_name, top_n):\n",
    "    value_counts_df = inspect_column_values(df, column_name)\n",
    "    if value_counts_df is not None:\n",
    "        # Display the top 'n' values\n",
    "        top_value_counts_df = value_counts_df.head(top_n)\n",
    "        print(f\"Top {top_n} counts of unique values in '{column_name}' column:\")\n",
    "        print(top_value_counts_df)\n"
   ]
  },
  {
   "cell_type": "code",
   "execution_count": 4,
   "id": "742fc29f-2e30-4174-ae39-dde92acb2989",
   "metadata": {},
   "outputs": [
    {
     "name": "stdout",
     "output_type": "stream",
     "text": [
      "Top 100 counts of unique values in 'Prefix to year of birth' column:\n",
      "       Prefix to year of birth  Number of Occurrences\n",
      "0                      omkring                     18\n",
      "1                  troligen pĺ                     10\n",
      "2                     troligen                      6\n",
      "3                         omkr                      3\n",
      "4                       senast                      3\n",
      "5                    senast ca                      1\n",
      "6                  i början av                      1\n",
      "7                     enl uppg                      1\n",
      "8                      Omkring                      1\n",
      "9                        efter                      1\n",
      "10                   slutet av                      1\n",
      "11                        trol                      1\n",
      "12          troligen senast pĺ                      1\n",
      "13  troligen senare hälften av                      1\n",
      "14              senast omkring                      1\n",
      "15                   mitten av                      1\n",
      "16                        före                      1\n",
      "17                     1164/67                      1\n"
     ]
    }
   ],
   "source": [
    "# Check if the column \"Prefix to year of birth\" exists\n",
    "column_name = 'Prefix to year of birth'\n",
    "inspect_top_column_values(df, column_name,100)"
   ]
  },
  {
   "cell_type": "code",
   "execution_count": 5,
   "id": "7c72f7bd-4d47-47b2-89c1-54ea284d72cf",
   "metadata": {},
   "outputs": [
    {
     "name": "stdout",
     "output_type": "stream",
     "text": [
      "Top 100 counts of unique values in 'Prefix to year of death' column:\n",
      "   Prefix to year of death  Number of Occurrences\n",
      "0                 tidigast                     35\n",
      "1                 levde pĺ                     26\n",
      "2                   senast                     25\n",
      "3                  omkring                     24\n",
      "4                 troligen                     20\n",
      "5                    efter                     12\n",
      "6                     före                      8\n",
      "7                    levde                      7\n",
      "8               levde ännu                      6\n",
      "9            troligen före                      3\n",
      "10                  mellan                      3\n",
      "11                    omkr                      2\n",
      "12              kort efter                      2\n",
      "13           levde omkring                      2\n",
      "14               början av                      1\n",
      "15              levde omkr                      1\n",
      "16          senast omkring                      1\n",
      "17          levde troligen                      1\n",
      "18        tidigast omkring                      1\n",
      "19         verksam omkring                      1\n",
      "20                levde ca                      1\n",
      "21               slutet av                      1\n",
      "22    troligen i början av                      1\n",
      "23       levde möjligen pĺ                      1\n",
      "24     levde troligen ännu                      1\n",
      "25             i början av                      1\n",
      "26                möjligen                      1\n",
      "27               sannolikt                      1\n",
      "28          senast 30 juni                      1\n"
     ]
    }
   ],
   "source": [
    "column_name = 'Prefix to year of death'\n",
    "inspect_top_column_values(df, column_name,100)"
   ]
  },
  {
   "cell_type": "code",
   "execution_count": 6,
   "id": "800363ea-d3a9-4afe-bfce-50d302ae23cf",
   "metadata": {},
   "outputs": [
    {
     "name": "stdout",
     "output_type": "stream",
     "text": [
      "Top 10 counts of unique values in 'Type of article' column:\n",
      "  Type of article  Number of Occurrences\n",
      "0  Person article                   7652\n",
      "1  Family article                   1754\n"
     ]
    }
   ],
   "source": [
    "column_name = 'Type of article'\n",
    "inspect_top_column_values(df, column_name,10)"
   ]
  },
  {
   "cell_type": "markdown",
   "id": "af48029a-57d1-4de2-a0ab-a53608e8418f",
   "metadata": {},
   "source": [
    "### odd SBL Volume number 0"
   ]
  },
  {
   "cell_type": "code",
   "execution_count": 7,
   "id": "d7fc16e6-2010-474b-b562-1adcc14858ea",
   "metadata": {},
   "outputs": [
    {
     "name": "stdout",
     "output_type": "stream",
     "text": [
      "Top 4 counts of unique values in 'SBL volume number' column:\n",
      "   SBL volume number  Number of Occurrences\n",
      "0               16.0                    433\n",
      "1               17.0                    412\n",
      "2               18.0                    399\n",
      "3               21.0                    391\n"
     ]
    }
   ],
   "source": [
    "column_name = 'SBL volume number'\n",
    "inspect_top_column_values(df, column_name,4)"
   ]
  },
  {
   "cell_type": "code",
   "execution_count": 8,
   "id": "7ddd4287-ef9a-468c-b3cb-2d0288a62c00",
   "metadata": {},
   "outputs": [
    {
     "name": "stdout",
     "output_type": "stream",
     "text": [
      "Top 40 counts of unique values in 'Page number in volume' column:\n",
      "    Page number in volume  Number of Occurrences\n",
      "0                     1.0                     44\n",
      "1                   209.0                     24\n",
      "2                   301.0                     22\n",
      "3                    23.0                     21\n",
      "4                   589.0                     20\n",
      "5                   497.0                     20\n",
      "6                   295.0                     19\n",
      "7                   182.0                     19\n",
      "8                   439.0                     19\n",
      "9                   456.0                     19\n",
      "10                   43.0                     18\n",
      "11                  354.0                     18\n",
      "12                   69.0                     18\n",
      "13                  260.0                     18\n",
      "14                  339.0                     18\n",
      "15                  109.0                     18\n",
      "16                   71.0                     18\n",
      "17                  111.0                     18\n",
      "18                  573.0                     18\n",
      "19                  598.0                     18\n",
      "20                  454.0                     18\n",
      "21                  742.0                     17\n",
      "22                  231.0                     17\n",
      "23                  130.0                     17\n",
      "24                  764.0                     17\n",
      "25                  313.0                     17\n",
      "26                  149.0                     17\n",
      "27                  133.0                     17\n",
      "28                   82.0                     17\n",
      "29                  446.0                     17\n",
      "30                  768.0                     17\n",
      "31                  190.0                     17\n",
      "32                  197.0                     17\n",
      "33                  214.0                     17\n",
      "34                  558.0                     17\n",
      "35                  233.0                     17\n",
      "36                  396.0                     17\n",
      "37                  493.0                     17\n",
      "38                  779.0                     17\n",
      "39                  592.0                     17\n"
     ]
    }
   ],
   "source": [
    "column_name = 'Page number in volume'\n",
    "inspect_top_column_values(df, column_name,40)"
   ]
  },
  {
   "cell_type": "code",
   "execution_count": 9,
   "id": "d510a7f5-5165-4f67-84e4-cccee568a85e",
   "metadata": {},
   "outputs": [],
   "source": [
    "def inspect_top_column_values(df, column_name, top_n):\n",
    "    value_counts_df = inspect_column_values(df, column_name)\n",
    "    if value_counts_df is not None:\n",
    "        # Display the top 'n' values\n",
    "        top_value_counts_df = value_counts_df.head(top_n)\n",
    "        print(f\"Top {top_n} counts of unique values in '{column_name}' column:\")\n",
    "        print(top_value_counts_df)\n"
   ]
  },
  {
   "cell_type": "code",
   "execution_count": 10,
   "id": "e5ef39a7-2f6a-4594-9a24-c448293489e4",
   "metadata": {},
   "outputs": [
    {
     "name": "stdout",
     "output_type": "stream",
     "text": [
      "Top 40 counts of unique values in 'Surname' column:\n",
      "         Surname  Number of Occurrences\n",
      "0        Nilsson                     55\n",
      "1       Svensson                     44\n",
      "2      Johansson                     43\n",
      "3          Ekman                     37\n",
      "4           Berg                     28\n",
      "5      Andersson                     27\n",
      "6       Lindberg                     25\n",
      "7         Olsson                     24\n",
      "8      Lindström                     23\n",
      "9        Larsson                     21\n",
      "10     Kjellberg                     19\n",
      "11        Mörner                     19\n",
      "12      Ericsson                     19\n",
      "13       Bergman                     18\n",
      "14         Bonde                     18\n",
      "15       Fleming                     18\n",
      "16        Bielke                     18\n",
      "17       Persson                     18\n",
      "18     Söderberg                     18\n",
      "19  De la Gardie                     17\n",
      "20      Lundgren                     17\n",
      "21          Dahl                     16\n",
      "22          Horn                     16\n",
      "23         Falck                     15\n",
      "24         Brahe                     15\n",
      "25      Hamilton                     15\n",
      "26     Bergström                     15\n",
      "27      (Bielke)                     15\n",
      "28    Cederström                     14\n",
      "29      Almquist                     14\n",
      "30      Lundberg                     14\n",
      "31         Bagge                     14\n",
      "32     Nordström                     14\n",
      "33        Möller                     14\n",
      "34      Dahlgren                     14\n",
      "35      Eriksson                     14\n",
      "36         Drake                     14\n",
      "37       Beckman                     13\n",
      "38      Engström                     13\n",
      "39         Hedin                     13\n"
     ]
    }
   ],
   "source": [
    "# Specify the column name to inspect\n",
    "column_name = 'Surname'\n",
    "top_n = 40  # Number of top values to display\n",
    "    \n",
    "# Call the function with the DataFrame and column name\n",
    "inspect_top_column_values(df, column_name, top_n)"
   ]
  },
  {
   "cell_type": "code",
   "execution_count": 11,
   "id": "bc730ab7-9358-4621-82e4-8c60d3a90b75",
   "metadata": {},
   "outputs": [
    {
     "name": "stdout",
     "output_type": "stream",
     "text": [
      "Top 100 counts of unique values in 'Curriculum vitae' column:\n",
      "                                     Curriculum vitae  Number of Occurrences\n",
      "0                                                                        724\n",
      "1   7. Fredrik von Essen, [a:15503:den föregĺendes...                      1\n",
      "2   Eugénie (Charlotta Eugénie Augusta Amalia Albe...                      1\n",
      "3   Eugen Napoleon Nicolaus, Sveriges (till 1905 ä...                      1\n",
      "4   Eufemia Eriksdotter, svensk prinsessa, f. omkr...                      1\n",
      "..                                                ...                    ...\n",
      "95  Alexander Eriskein (von Erskein, Ersskein), ti...                      1\n",
      "96  Ernst (Ernest), Petter, f. 2 april 1714, d. 19...                      1\n",
      "97  1. Per Henrik Gustaf Peterson, f. 23 mars 1815...                      1\n",
      "98  3. Jarl Ludvig Ernberg, f. 20 aug. 1863 i Karl...                      1\n",
      "99  2. Axel Ernberg, [a:15446:den föregĺendes] bro...                      1\n",
      "\n",
      "[100 rows x 2 columns]\n"
     ]
    }
   ],
   "source": [
    "column_name = \"Curriculum vitae\"\n",
    "inspect_top_column_values(df, column_name, 100)"
   ]
  },
  {
   "cell_type": "code",
   "execution_count": 12,
   "id": "e0711242-7405-4b31-b8b4-fbfd9ca57bda",
   "metadata": {},
   "outputs": [
    {
     "name": "stdout",
     "output_type": "stream",
     "text": [
      "Top 100 counts of unique values in 'Gender' column:\n",
      "  Gender  Number of Occurrences\n",
      "0      m                   7066\n",
      "1      -                   1805\n",
      "2      f                    534\n",
      "3      M                      1\n"
     ]
    }
   ],
   "source": [
    "column_name = \"Gender\"\n",
    "inspect_top_column_values(df, column_name, 100)"
   ]
  },
  {
   "cell_type": "code",
   "execution_count": 13,
   "id": "1d599161-ae48-4b89-bdb0-8689ae8ef27e",
   "metadata": {},
   "outputs": [
    {
     "name": "stdout",
     "output_type": "stream",
     "text": [
      "Top 10 counts of unique values in 'Occupation, royal title, rank' column:\n",
      "  Occupation, royal title, rank  Number of Occurrences\n",
      "0                   Arméofficer                    144\n",
      "1                         Präst                    114\n",
      "2                        Biskop                    100\n",
      "3                        Läkare                     91\n",
      "4                    Författare                     84\n",
      "5                        Mĺlare                     74\n",
      "6                          Kung                     71\n",
      "7                      Arkitekt                     68\n",
      "8                  Skĺdespelare                     64\n",
      "9                Industriidkare                     63\n"
     ]
    }
   ],
   "source": [
    "column_name= \"Occupation, royal title, rank\" \n",
    "inspect_top_column_values(df, column_name, 10)"
   ]
  },
  {
   "cell_type": "code",
   "execution_count": 14,
   "id": "ccfaf12c-f9ef-45e0-afec-3e980c4f9ef2",
   "metadata": {},
   "outputs": [
    {
     "name": "stdout",
     "output_type": "stream",
     "text": [
      "Top 100 counts of unique values in 'Place of birth' column:\n",
      "                    Place of birth  Number of Occurrences\n",
      "0                  Stockholms stad                    435\n",
      "1                         Tyskland                    223\n",
      "2                          Finland                    222\n",
      "3                 Klara församling                    121\n",
      "4       Uppsala domkyrkoförsamling                    118\n",
      "..                             ...                    ...\n",
      "95           Brännkyrka församling                      9\n",
      "96               Avesta församling                      9\n",
      "97                 Lovö församling                      8\n",
      "98     Trelleborgs stadsförsamling                      8\n",
      "99  Östra Ryds församling (AB-län)                      8\n",
      "\n",
      "[100 rows x 2 columns]\n"
     ]
    }
   ],
   "source": [
    "column_name=\"Place of birth\" \n",
    "inspect_top_column_values(df, column_name, 100)"
   ]
  },
  {
   "cell_type": "code",
   "execution_count": 15,
   "id": "126caa3e-b227-4273-8001-55edc045abb5",
   "metadata": {},
   "outputs": [
    {
     "name": "stdout",
     "output_type": "stream",
     "text": [
      "Top 100 counts of unique values in 'Comment on place of birth' column:\n",
      "   Comment on place of birth  Number of Occurrences\n",
      "0                      i Ĺbo                     20\n",
      "1                i Stralsund                     18\n",
      "2              i Helsingfors                     16\n",
      "3                    i Paris                     14\n",
      "4                i Köpenhamn                     12\n",
      "..                       ...                    ...\n",
      "95       pĺ Herrevadskloster                      2\n",
      "96               i Kockstorp                      2\n",
      "97             pĺ Voxna bruk                      2\n",
      "98                pĺ Sĺtenäs                      2\n",
      "99              pĺ Claestorp                      2\n",
      "\n",
      "[100 rows x 2 columns]\n"
     ]
    }
   ],
   "source": [
    "column_name=\"Comment on place of birth\"\n",
    "inspect_top_column_values(df, column_name, 100)"
   ]
  },
  {
   "cell_type": "code",
   "execution_count": 16,
   "id": "bec72834-c329-42b0-bc7a-2908325e7ea9",
   "metadata": {},
   "outputs": [
    {
     "name": "stdout",
     "output_type": "stream",
     "text": [
      "Top 100 counts of unique values in 'Place of birth (physical location)' column:\n",
      "   Place of birth (physical location)  Number of Occurrences\n",
      "0                     Stockholms stad                      3\n",
      "1                            Tyskland                      2\n",
      "2                             Finland                      1\n",
      "3                Ransäters församling                      1\n",
      "4                   Jakobs församling                      1\n",
      "5       Stockholms domkyrkoförsamling                      1\n",
      "6        Stora Kopparbergs församling                      1\n",
      "7                   Hasslö församling                      1\n",
      "8                 Lekaryds församling                      1\n",
      "9                    Klara församling                      1\n",
      "10                   Vrena församling                      1\n",
      "11                  Högsjö församling                      1\n",
      "12          Trolle-Ljungby församling                      1\n",
      "13                   Solna församling                      1\n",
      "14                    Lovö församling                      1\n"
     ]
    }
   ],
   "source": [
    "column_name=\"Place of birth (physical location)\" \n",
    "inspect_top_column_values(df, column_name, 100)"
   ]
  },
  {
   "cell_type": "code",
   "execution_count": 17,
   "id": "b0ef5560-9413-41a3-91e4-626e22040d66",
   "metadata": {},
   "outputs": [
    {
     "name": "stdout",
     "output_type": "stream",
     "text": [
      "Top 100 counts of unique values in 'Comment on place of death' column:\n",
      "     Comment on place of death  Number of Occurrences\n",
      "0                        i Ĺbo                     47\n",
      "1                  i Djursholm                     35\n",
      "2                      i Paris                     28\n",
      "3                  i Köpenhamn                     17\n",
      "4                        i Rom                     13\n",
      "..                         ...                    ...\n",
      "95                      i Bern                      2\n",
      "96                   i Pommern                      2\n",
      "97                i Heidelberg                      2\n",
      "98  i Los Angeles, Kalifornien                      2\n",
      "99                    i Altona                      2\n",
      "\n",
      "[100 rows x 2 columns]\n"
     ]
    }
   ],
   "source": [
    "column_name=\"Comment on place of death\" \n",
    "inspect_top_column_values(df, column_name, 100)"
   ]
  },
  {
   "cell_type": "code",
   "execution_count": 18,
   "id": "299402c0-8464-4677-b433-802caf17a587",
   "metadata": {},
   "outputs": [
    {
     "name": "stdout",
     "output_type": "stream",
     "text": [
      "Top 100 counts of unique values in 'Archive' column:\n",
      "                                              Archive  Number of Occurrences\n",
      "0                                                                       2054\n",
      "1                                   Brev frĺn S i KB.                      5\n",
      "2                     Strödda brev frĺn L i KB o UUB.                      4\n",
      "3                          Strödda brev frĺn L i UUB.                      3\n",
      "4                              Brev frĺn M i KB o RA.                      3\n",
      "..                                                ...                    ...\n",
      "95  En saml brev till H i KB. Brev frĺn H i RA (bl...                      1\n",
      "96  Egenhändiga nedskrifter av H :s dikter saknas ...                      1\n",
      "97  Delar av H:s arkiv i LUB (bl a brev frĺn T Hol...                      1\n",
      "98  H:s arkiv (brev till honom, predikn:ar5 i LUB....                      1\n",
      "99                                  Brev frĺn H i KB.                      1\n",
      "\n",
      "[100 rows x 2 columns]\n"
     ]
    }
   ],
   "source": [
    "column_name=\"Archive\" \n",
    "inspect_top_column_values(df, column_name, 100)"
   ]
  },
  {
   "cell_type": "code",
   "execution_count": 19,
   "id": "e4474c3d-1bdc-4f84-b3ab-ec20e903f761",
   "metadata": {},
   "outputs": [
    {
     "name": "stdout",
     "output_type": "stream",
     "text": [
      "Top 100 counts of unique values in 'Printed works' column:\n",
      "                                        Printed works  Number of Occurrences\n",
      "0                                                                       1736\n",
      "1                            Handskrifter: se texten.                      3\n",
      "2   Tryckta arbeten: Anföranden och motioner i and...                      3\n",
      "3                        Tryckta skrifter: se texten.                      3\n",
      "4   Tryckta arbeten: De s. k. »Skevikstraktaterna»...                      2\n",
      "..                                                ...                    ...\n",
      "95  Tryckta arbeten: F:s brev av Malmö 16 juni 167...                      1\n",
      "96  Handskrifter, källeditioner och allmän littera...                      1\n",
      "97  Tryckta arbeten: Til Hans Kongl. Höghet Kron-p...                      1\n",
      "98  Tryckta arbeten: Brev till okänd i Tyskland (2...                      1\n",
      "99  Tryckt arbete: Tal, hĺllit wid... Carl Hĺrlema...                      1\n",
      "\n",
      "[100 rows x 2 columns]\n"
     ]
    }
   ],
   "source": [
    "column_name=\"Printed works\" \n",
    "inspect_top_column_values(df, column_name, 100)"
   ]
  },
  {
   "cell_type": "code",
   "execution_count": 20,
   "id": "e2bceb85-7d29-44c3-97ab-d39dbd79fc0e",
   "metadata": {},
   "outputs": [
    {
     "name": "stdout",
     "output_type": "stream",
     "text": [
      "Top 100 counts of unique values in 'Sources' column:\n",
      "                                              Sources  Number of Occurrences\n",
      "0                                                                         79\n",
      "1             Källor: jfr ovan under släktöversikten.                      4\n",
      "2    Källa: G. Elgenstierna, Sv. släktkalendern 1918.                      3\n",
      "3                Källor: Se ovan under Donner, släkt.                      3\n",
      "4                      Källa: Personliga meddelanden.                      2\n",
      "..                                                ...                    ...\n",
      "95  Källor: ovan anförda Fersenska arkiv. – Handl....                      1\n",
      "96  Källor: F:s ovannämnda papper i RA; Klara förs...                      1\n",
      "97  Källor: F:s papper och anförda brev. – Krigsex...                      1\n",
      "98  Källor: Ovan angivna handskrifter; Görvel ĺker...                      1\n",
      "99  Källor: F:s egna skrifter samt ovan nämnda ark...                      1\n",
      "\n",
      "[100 rows x 2 columns]\n"
     ]
    }
   ],
   "source": [
    "column_name=\"Sources\" \n",
    "inspect_top_column_values(df, column_name, 100)\n"
   ]
  },
  {
   "cell_type": "code",
   "execution_count": 21,
   "id": "ea902014-9456-4717-9af3-43dec1c0021b",
   "metadata": {},
   "outputs": [
    {
     "name": "stdout",
     "output_type": "stream",
     "text": [
      "Top 100 counts of unique values in 'Article author' column:\n",
      "       Article author  Number of Occurrences\n",
      "0   Bengt Hildebrand.                    337\n",
      "1                                        220\n",
      "2    Hans Gillingstam                    173\n",
      "3               H G-m                    168\n",
      "4        Olle Franzén                    165\n",
      "..                ...                    ...\n",
      "95     Olle Hellström                     11\n",
      "96     Anders Jarlert                     11\n",
      "97        Brita Linde                     11\n",
      "98    Lennart Hedwall                     11\n",
      "99    Staffan Högberg                     11\n",
      "\n",
      "[100 rows x 2 columns]\n"
     ]
    }
   ],
   "source": [
    "column_name=\"Article author\" \n",
    "inspect_top_column_values(df, column_name, 100)\n"
   ]
  },
  {
   "cell_type": "code",
   "execution_count": 22,
   "id": "7e542f0f-0670-4595-b2c7-02206e54d062",
   "metadata": {},
   "outputs": [
    {
     "name": "stdout",
     "output_type": "stream",
     "text": [
      "Top 100 counts of unique values in 'Image file 9' column:\n",
      "                                         Image file 9  Number of Occurrences\n",
      "0   https://sok.riksarkivet.se/sbl/bilder/6973_8_0...                      1\n",
      "1                                  godsägarekammarrĺd                      1\n",
      "2                                                   H                      1\n",
      "3         Eric Gabriel L (1782—1848) överstelöj tnant                      1\n",
      "4                                          -52)(1692—                      1\n",
      "5                                                LILL                      1\n",
      "6                                        L(1796-1858)                      1\n",
      "7   1 Gustaf Napoleon M (1829-1901)    1 major, di...                      1\n",
      "8      1 1 Gustaf N (1816-1902) överste, förestĺndare                      1\n",
      "9                                     grosshandlare o                      1\n",
      "10  lOtto Gustar Nordensköld(1780-1861) amiral1841...                      1\n",
      "11                                         statsrĺd i                      1\n",
      "12                                          (1732-87)                      1\n",
      "13  1    1 Lars Conrad Eberhard Q (1858-1927) förs...                      1\n",
      "14                                     1 Nils P     1                      1\n",
      "15                                            Richman                      1\n",
      "16  https://sok.riksarkivet.se/sbl/bilder/c6f63c6b...                      1\n"
     ]
    }
   ],
   "source": [
    "column_name=\"Image file 9\" \n",
    "inspect_top_column_values(df, column_name, 100)"
   ]
  },
  {
   "cell_type": "code",
   "execution_count": 23,
   "id": "0796468e-190b-45e6-aba3-db852e26f561",
   "metadata": {},
   "outputs": [
    {
     "name": "stdout",
     "output_type": "stream",
     "text": [
      "Elapsed time: 7.7952728271484375 seconds\n"
     ]
    }
   ],
   "source": [
    "end_time = time.time()\n",
    "\n",
    "# Calculate the elapsed time\n",
    "elapsed_time = end_time - start_time\n",
    "\n",
    "# Print the elapsed time\n",
    "print(f\"Elapsed time: {elapsed_time} seconds\")"
   ]
  },
  {
   "cell_type": "code",
   "execution_count": null,
   "id": "196b4293-787e-4595-91c3-be4279945316",
   "metadata": {},
   "outputs": [],
   "source": []
  }
 ],
 "metadata": {
  "kernelspec": {
   "display_name": "Python 3 (ipykernel)",
   "language": "python",
   "name": "python3"
  },
  "language_info": {
   "codemirror_mode": {
    "name": "ipython",
    "version": 3
   },
   "file_extension": ".py",
   "mimetype": "text/x-python",
   "name": "python",
   "nbconvert_exporter": "python",
   "pygments_lexer": "ipython3",
   "version": "3.12.2"
  }
 },
 "nbformat": 4,
 "nbformat_minor": 5
}
